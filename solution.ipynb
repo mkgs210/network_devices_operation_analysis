{
 "cells": [
  {
   "cell_type": "markdown",
   "id": "b5eb522b",
   "metadata": {},
   "source": [
    "## Задание первое"
   ]
  },
  {
   "cell_type": "markdown",
   "id": "619d3b8e",
   "metadata": {},
   "source": [
    "Спрогнозировать значение UDP Throughput для сетевого устройства №3, имеющего параметры: \n",
    "•\tТактовая частота процессора: 2 000 ГГц. \n",
    "•\tУтилизация процессора: 40%.\n",
    "•\tТемпература процессора: 54 °С."
   ]
  },
  {
   "cell_type": "code",
   "execution_count": 1,
   "id": "e4957516",
   "metadata": {},
   "outputs": [],
   "source": [
    "#Импорт необходимых библиотек\n",
    "import pandas as pd\n",
    "from sklearn import preprocessing\n",
    "import numpy as np\n",
    "import seaborn as sns\n",
    "from sklearn.linear_model import LinearRegression\n",
    "import matplotlib.pyplot as plt"
   ]
  },
  {
   "cell_type": "code",
   "execution_count": 2,
   "id": "fc37ef7d",
   "metadata": {},
   "outputs": [],
   "source": [
    "#Загрузка изначальных данных\n",
    "df = pd.read_excel(r'C:\\Users\\Maxim\\Desktop\\testovoe.xlsx')\n",
    "init_data = pd.read_excel(r'C:\\Users\\Maxim\\Desktop\\testovoe_init.xlsx')"
   ]
  },
  {
   "cell_type": "code",
   "execution_count": 3,
   "id": "50b4cea0",
   "metadata": {},
   "outputs": [
    {
     "data": {
      "text/html": [
       "<div>\n",
       "<style scoped>\n",
       "    .dataframe tbody tr th:only-of-type {\n",
       "        vertical-align: middle;\n",
       "    }\n",
       "\n",
       "    .dataframe tbody tr th {\n",
       "        vertical-align: top;\n",
       "    }\n",
       "\n",
       "    .dataframe thead th {\n",
       "        text-align: right;\n",
       "    }\n",
       "</style>\n",
       "<table border=\"1\" class=\"dataframe\">\n",
       "  <thead>\n",
       "    <tr style=\"text-align: right;\">\n",
       "      <th></th>\n",
       "      <th>ghz</th>\n",
       "      <th>udp</th>\n",
       "      <th>utilization</th>\n",
       "      <th>t</th>\n",
       "    </tr>\n",
       "  </thead>\n",
       "  <tbody>\n",
       "    <tr>\n",
       "      <th>0</th>\n",
       "      <td>1500</td>\n",
       "      <td>600</td>\n",
       "      <td>50</td>\n",
       "      <td>38</td>\n",
       "    </tr>\n",
       "    <tr>\n",
       "      <th>1</th>\n",
       "      <td>1500</td>\n",
       "      <td>650</td>\n",
       "      <td>55</td>\n",
       "      <td>45</td>\n",
       "    </tr>\n",
       "    <tr>\n",
       "      <th>2</th>\n",
       "      <td>1500</td>\n",
       "      <td>700</td>\n",
       "      <td>60</td>\n",
       "      <td>52</td>\n",
       "    </tr>\n",
       "    <tr>\n",
       "      <th>3</th>\n",
       "      <td>1500</td>\n",
       "      <td>750</td>\n",
       "      <td>65</td>\n",
       "      <td>60</td>\n",
       "    </tr>\n",
       "    <tr>\n",
       "      <th>4</th>\n",
       "      <td>1500</td>\n",
       "      <td>900</td>\n",
       "      <td>70</td>\n",
       "      <td>67</td>\n",
       "    </tr>\n",
       "    <tr>\n",
       "      <th>5</th>\n",
       "      <td>2600</td>\n",
       "      <td>600</td>\n",
       "      <td>30</td>\n",
       "      <td>28</td>\n",
       "    </tr>\n",
       "    <tr>\n",
       "      <th>6</th>\n",
       "      <td>2600</td>\n",
       "      <td>750</td>\n",
       "      <td>35</td>\n",
       "      <td>30</td>\n",
       "    </tr>\n",
       "    <tr>\n",
       "      <th>7</th>\n",
       "      <td>2600</td>\n",
       "      <td>800</td>\n",
       "      <td>40</td>\n",
       "      <td>31</td>\n",
       "    </tr>\n",
       "    <tr>\n",
       "      <th>8</th>\n",
       "      <td>2600</td>\n",
       "      <td>850</td>\n",
       "      <td>45</td>\n",
       "      <td>32</td>\n",
       "    </tr>\n",
       "    <tr>\n",
       "      <th>9</th>\n",
       "      <td>2600</td>\n",
       "      <td>900</td>\n",
       "      <td>50</td>\n",
       "      <td>33</td>\n",
       "    </tr>\n",
       "  </tbody>\n",
       "</table>\n",
       "</div>"
      ],
      "text/plain": [
       "    ghz  udp  utilization   t\n",
       "0  1500  600           50  38\n",
       "1  1500  650           55  45\n",
       "2  1500  700           60  52\n",
       "3  1500  750           65  60\n",
       "4  1500  900           70  67\n",
       "5  2600  600           30  28\n",
       "6  2600  750           35  30\n",
       "7  2600  800           40  31\n",
       "8  2600  850           45  32\n",
       "9  2600  900           50  33"
      ]
     },
     "execution_count": 3,
     "metadata": {},
     "output_type": "execute_result"
    }
   ],
   "source": [
    "df.sort_values('udp').sort_values('ghz').reset_index(drop=True)"
   ]
  },
  {
   "cell_type": "markdown",
   "id": "7004e919",
   "metadata": {},
   "source": [
    "Данных изначально мало, обучить что-то кроме линейной регрессии не получится, нужно проверить наличие линейных зависимостей."
   ]
  },
  {
   "cell_type": "markdown",
   "id": "5470abae",
   "metadata": {},
   "source": [
    "Видим, что в данных присутствует зависимость между значениями тактовой частоты ЦП, UDP, утилизацией ЦП и его температурой. Выведем эти значения для кажной тактовой частоты по отдельности."
   ]
  },
  {
   "cell_type": "code",
   "execution_count": 4,
   "id": "47783d19",
   "metadata": {},
   "outputs": [
    {
     "data": {
      "text/plain": [
       "array([<AxesSubplot:>, <AxesSubplot:>, <AxesSubplot:>], dtype=object)"
      ]
     },
     "execution_count": 4,
     "metadata": {},
     "output_type": "execute_result"
    },
    {
     "data": {
      "image/png": "[encoded data removed]",
      "text/plain": [
       "<Figure size 432x288 with 3 Axes>"
      ]
     },
     "metadata": {
      "needs_background": "light"
     },
     "output_type": "display_data"
    }
   ],
   "source": [
    "df.sort_values('udp').sort_values('ghz')[['t', 'utilization','udp']].reset_index(drop=True)[:5].plot(subplots=True)"
   ]
  },
  {
   "cell_type": "code",
   "execution_count": 5,
   "id": "a7bd8d5f",
   "metadata": {},
   "outputs": [
    {
     "data": {
      "text/plain": [
       "array([<AxesSubplot:>, <AxesSubplot:>, <AxesSubplot:>], dtype=object)"
      ]
     },
     "execution_count": 5,
     "metadata": {},
     "output_type": "execute_result"
    },
    {
     "data": {
      "image/png": "[encoded data removed]",
      "text/plain": [
       "<Figure size 432x288 with 3 Axes>"
      ]
     },
     "metadata": {
      "needs_background": "light"
     },
     "output_type": "display_data"
    }
   ],
   "source": [
    "df.sort_values('udp').sort_values('ghz')[['t', 'utilization','udp']].reset_index(drop=True)[5:].plot(subplots=True)"
   ]
  },
  {
   "cell_type": "markdown",
   "id": "442ff024",
   "metadata": {},
   "source": [
    "Видим что зависимость есть и она линейна. Убедимся в этом, построив гистограмму"
   ]
  },
  {
   "cell_type": "code",
   "execution_count": 6,
   "id": "f9c35803",
   "metadata": {
    "scrolled": true
   },
   "outputs": [
    {
     "data": {
      "text/plain": [
       "<AxesSubplot:xlabel='udp'>"
      ]
     },
     "execution_count": 6,
     "metadata": {},
     "output_type": "execute_result"
    },
    {
     "data": {
      "image/png": "[encoded data removed]",
      "text/plain": [
       "<Figure size 432x288 with 1 Axes>"
      ]
     },
     "metadata": {
      "needs_background": "light"
     },
     "output_type": "display_data"
    }
   ],
   "source": [
    "norm_df = pd.DataFrame(preprocessing.normalize(df, axis=0), columns=df.columns)\n",
    "norm_df.sort_values('udp').sort_values('ghz').plot.bar(x=\"udp\", y=[\"ghz\", \"utilization\", \"t\"])"
   ]
  },
  {
   "cell_type": "markdown",
   "id": "6ad63bda",
   "metadata": {
    "scrolled": true
   },
   "source": [
    "А так же для наглядности тепловую корреляционную матрицу "
   ]
  },
  {
   "cell_type": "code",
   "execution_count": 24,
   "id": "56973dbf",
   "metadata": {
    "scrolled": true
   },
   "outputs": [
    {
     "data": {
      "text/plain": [
       "<AxesSubplot:>"
      ]
     },
     "execution_count": 24,
     "metadata": {},
     "output_type": "execute_result"
    },
    {
     "data": {
      "image/png": "[encoded data removed]",
      "text/plain": [
       "<Figure size 432x288 with 2 Axes>"
      ]
     },
     "metadata": {
      "needs_background": "light"
     },
     "output_type": "display_data"
    }
   ],
   "source": [
    "sns.heatmap(df.corr(), annot = True)"
   ]
  },
  {
   "cell_type": "code",
   "execution_count": 9,
   "id": "1a43bf14",
   "metadata": {},
   "outputs": [],
   "source": [
    "train=df.drop('udp', axis=1)\n",
    "test = df.udp"
   ]
  },
  {
   "cell_type": "code",
   "execution_count": 10,
   "id": "7c9a2c83",
   "metadata": {},
   "outputs": [
    {
     "data": {
      "text/plain": [
       "LinearRegression()"
      ]
     },
     "execution_count": 10,
     "metadata": {},
     "output_type": "execute_result"
    }
   ],
   "source": [
    "regressor = LinearRegression()\n",
    "regressor.fit(train, test)"
   ]
  },
  {
   "cell_type": "markdown",
   "id": "c0f78444",
   "metadata": {},
   "source": [
    "Обучаем нашу линейную модель и получаем результат примерно в 600 UDP"
   ]
  },
  {
   "cell_type": "code",
   "execution_count": 11,
   "id": "d59a5908",
   "metadata": {},
   "outputs": [
    {
     "data": {
      "text/plain": [
       "array([598.9772423])"
      ]
     },
     "execution_count": 11,
     "metadata": {},
     "output_type": "execute_result"
    }
   ],
   "source": [
    "regressor.predict(init_data)"
   ]
  },
  {
   "cell_type": "markdown",
   "id": "a12a20cb",
   "metadata": {},
   "source": [
    "## Вторая часть первого задания"
   ]
  },
  {
   "cell_type": "markdown",
   "id": "01f4f413",
   "metadata": {},
   "source": [
    "Спрогнозировать значения утилизации ЦП и температуры ЦП сетевого устройства №4 с тактовой частотой 1 700 ГГц для значений UDP Throughput от 50 до 500 с шагом в 50"
   ]
  },
  {
   "cell_type": "code",
   "execution_count": 48,
   "id": "a30b9740",
   "metadata": {},
   "outputs": [
    {
     "data": {
      "text/html": [
       "<div>\n",
       "<style scoped>\n",
       "    .dataframe tbody tr th:only-of-type {\n",
       "        vertical-align: middle;\n",
       "    }\n",
       "\n",
       "    .dataframe tbody tr th {\n",
       "        vertical-align: top;\n",
       "    }\n",
       "\n",
       "    .dataframe thead th {\n",
       "        text-align: right;\n",
       "    }\n",
       "</style>\n",
       "<table border=\"1\" class=\"dataframe\">\n",
       "  <thead>\n",
       "    <tr style=\"text-align: right;\">\n",
       "      <th></th>\n",
       "      <th>ghz</th>\n",
       "      <th>udp</th>\n",
       "    </tr>\n",
       "  </thead>\n",
       "  <tbody>\n",
       "    <tr>\n",
       "      <th>0</th>\n",
       "      <td>1700</td>\n",
       "      <td>50</td>\n",
       "    </tr>\n",
       "    <tr>\n",
       "      <th>1</th>\n",
       "      <td>1700</td>\n",
       "      <td>100</td>\n",
       "    </tr>\n",
       "    <tr>\n",
       "      <th>2</th>\n",
       "      <td>1700</td>\n",
       "      <td>150</td>\n",
       "    </tr>\n",
       "    <tr>\n",
       "      <th>3</th>\n",
       "      <td>1700</td>\n",
       "      <td>200</td>\n",
       "    </tr>\n",
       "    <tr>\n",
       "      <th>4</th>\n",
       "      <td>1700</td>\n",
       "      <td>250</td>\n",
       "    </tr>\n",
       "    <tr>\n",
       "      <th>5</th>\n",
       "      <td>1700</td>\n",
       "      <td>300</td>\n",
       "    </tr>\n",
       "    <tr>\n",
       "      <th>6</th>\n",
       "      <td>1700</td>\n",
       "      <td>350</td>\n",
       "    </tr>\n",
       "    <tr>\n",
       "      <th>7</th>\n",
       "      <td>1700</td>\n",
       "      <td>400</td>\n",
       "    </tr>\n",
       "    <tr>\n",
       "      <th>8</th>\n",
       "      <td>1700</td>\n",
       "      <td>450</td>\n",
       "    </tr>\n",
       "    <tr>\n",
       "      <th>9</th>\n",
       "      <td>1700</td>\n",
       "      <td>500</td>\n",
       "    </tr>\n",
       "  </tbody>\n",
       "</table>\n",
       "</div>"
      ],
      "text/plain": [
       "    ghz  udp\n",
       "0  1700   50\n",
       "1  1700  100\n",
       "2  1700  150\n",
       "3  1700  200\n",
       "4  1700  250\n",
       "5  1700  300\n",
       "6  1700  350\n",
       "7  1700  400\n",
       "8  1700  450\n",
       "9  1700  500"
      ]
     },
     "execution_count": 48,
     "metadata": {},
     "output_type": "execute_result"
    }
   ],
   "source": [
    "init_data = pd.read_excel(r'C:\\Users\\Maxim\\Desktop\\testovoe_2.xlsx') \n",
    "init_data #Загрузка новых данных"
   ]
  },
  {
   "cell_type": "code",
   "execution_count": 49,
   "id": "ec212ffd",
   "metadata": {},
   "outputs": [
    {
     "data": {
      "text/html": [
       "<div>\n",
       "<style scoped>\n",
       "    .dataframe tbody tr th:only-of-type {\n",
       "        vertical-align: middle;\n",
       "    }\n",
       "\n",
       "    .dataframe tbody tr th {\n",
       "        vertical-align: top;\n",
       "    }\n",
       "\n",
       "    .dataframe thead th {\n",
       "        text-align: right;\n",
       "    }\n",
       "</style>\n",
       "<table border=\"1\" class=\"dataframe\">\n",
       "  <thead>\n",
       "    <tr style=\"text-align: right;\">\n",
       "      <th></th>\n",
       "      <th>ghz</th>\n",
       "      <th>udp</th>\n",
       "      <th>utilization</th>\n",
       "      <th>t</th>\n",
       "    </tr>\n",
       "  </thead>\n",
       "  <tbody>\n",
       "    <tr>\n",
       "      <th>0</th>\n",
       "      <td>1500</td>\n",
       "      <td>600</td>\n",
       "      <td>50</td>\n",
       "      <td>38</td>\n",
       "    </tr>\n",
       "    <tr>\n",
       "      <th>1</th>\n",
       "      <td>1500</td>\n",
       "      <td>650</td>\n",
       "      <td>55</td>\n",
       "      <td>45</td>\n",
       "    </tr>\n",
       "    <tr>\n",
       "      <th>2</th>\n",
       "      <td>1500</td>\n",
       "      <td>700</td>\n",
       "      <td>60</td>\n",
       "      <td>52</td>\n",
       "    </tr>\n",
       "    <tr>\n",
       "      <th>3</th>\n",
       "      <td>1500</td>\n",
       "      <td>750</td>\n",
       "      <td>65</td>\n",
       "      <td>60</td>\n",
       "    </tr>\n",
       "    <tr>\n",
       "      <th>4</th>\n",
       "      <td>1500</td>\n",
       "      <td>900</td>\n",
       "      <td>70</td>\n",
       "      <td>67</td>\n",
       "    </tr>\n",
       "    <tr>\n",
       "      <th>5</th>\n",
       "      <td>2600</td>\n",
       "      <td>600</td>\n",
       "      <td>30</td>\n",
       "      <td>28</td>\n",
       "    </tr>\n",
       "    <tr>\n",
       "      <th>6</th>\n",
       "      <td>2600</td>\n",
       "      <td>750</td>\n",
       "      <td>35</td>\n",
       "      <td>30</td>\n",
       "    </tr>\n",
       "    <tr>\n",
       "      <th>7</th>\n",
       "      <td>2600</td>\n",
       "      <td>800</td>\n",
       "      <td>40</td>\n",
       "      <td>31</td>\n",
       "    </tr>\n",
       "    <tr>\n",
       "      <th>8</th>\n",
       "      <td>2600</td>\n",
       "      <td>850</td>\n",
       "      <td>45</td>\n",
       "      <td>32</td>\n",
       "    </tr>\n",
       "    <tr>\n",
       "      <th>9</th>\n",
       "      <td>2600</td>\n",
       "      <td>900</td>\n",
       "      <td>50</td>\n",
       "      <td>33</td>\n",
       "    </tr>\n",
       "  </tbody>\n",
       "</table>\n",
       "</div>"
      ],
      "text/plain": [
       "    ghz  udp  utilization   t\n",
       "0  1500  600           50  38\n",
       "1  1500  650           55  45\n",
       "2  1500  700           60  52\n",
       "3  1500  750           65  60\n",
       "4  1500  900           70  67\n",
       "5  2600  600           30  28\n",
       "6  2600  750           35  30\n",
       "7  2600  800           40  31\n",
       "8  2600  850           45  32\n",
       "9  2600  900           50  33"
      ]
     },
     "execution_count": 49,
     "metadata": {},
     "output_type": "execute_result"
    }
   ],
   "source": [
    "df.sort_values('t').sort_values('ghz').reset_index(drop=True) #Вспомним какие данные у нас уже есть"
   ]
  },
  {
   "cell_type": "code",
   "execution_count": 50,
   "id": "2450e6f7",
   "metadata": {},
   "outputs": [],
   "source": [
    "train = df.drop(['utilization','t'], axis=1) #Разобьем их для обучения\n",
    "test = df.drop(['ghz','udp'], axis=1)"
   ]
  },
  {
   "cell_type": "code",
   "execution_count": 51,
   "id": "12f25bfb",
   "metadata": {},
   "outputs": [
    {
     "data": {
      "text/plain": [
       "LinearRegression()"
      ]
     },
     "execution_count": 51,
     "metadata": {},
     "output_type": "execute_result"
    }
   ],
   "source": [
    "regressor.fit(train, test) #Линейные зависимости не изменились и данных все еще мало, поэтому используем линейную регрессию"
   ]
  },
  {
   "cell_type": "markdown",
   "id": "8b090776",
   "metadata": {},
   "source": [
    "Окрулив, получаем вот такую табличку"
   ]
  },
  {
   "cell_type": "code",
   "execution_count": 52,
   "id": "05fceacf",
   "metadata": {
    "scrolled": true
   },
   "outputs": [
    {
     "data": {
      "text/html": [
       "<div>\n",
       "<style scoped>\n",
       "    .dataframe tbody tr th:only-of-type {\n",
       "        vertical-align: middle;\n",
       "    }\n",
       "\n",
       "    .dataframe tbody tr th {\n",
       "        vertical-align: top;\n",
       "    }\n",
       "\n",
       "    .dataframe thead th {\n",
       "        text-align: right;\n",
       "    }\n",
       "</style>\n",
       "<table border=\"1\" class=\"dataframe\">\n",
       "  <thead>\n",
       "    <tr style=\"text-align: right;\">\n",
       "      <th></th>\n",
       "      <th>ghz</th>\n",
       "      <th>udp</th>\n",
       "      <th>utilization</th>\n",
       "      <th>t</th>\n",
       "    </tr>\n",
       "  </thead>\n",
       "  <tbody>\n",
       "    <tr>\n",
       "      <th>0</th>\n",
       "      <td>1700</td>\n",
       "      <td>50</td>\n",
       "      <td>11.0</td>\n",
       "      <td>10.0</td>\n",
       "    </tr>\n",
       "    <tr>\n",
       "      <th>1</th>\n",
       "      <td>1700</td>\n",
       "      <td>100</td>\n",
       "      <td>15.0</td>\n",
       "      <td>13.0</td>\n",
       "    </tr>\n",
       "    <tr>\n",
       "      <th>2</th>\n",
       "      <td>1700</td>\n",
       "      <td>150</td>\n",
       "      <td>18.0</td>\n",
       "      <td>16.0</td>\n",
       "    </tr>\n",
       "    <tr>\n",
       "      <th>3</th>\n",
       "      <td>1700</td>\n",
       "      <td>200</td>\n",
       "      <td>21.0</td>\n",
       "      <td>18.0</td>\n",
       "    </tr>\n",
       "    <tr>\n",
       "      <th>4</th>\n",
       "      <td>1700</td>\n",
       "      <td>250</td>\n",
       "      <td>25.0</td>\n",
       "      <td>21.0</td>\n",
       "    </tr>\n",
       "    <tr>\n",
       "      <th>5</th>\n",
       "      <td>1700</td>\n",
       "      <td>300</td>\n",
       "      <td>28.0</td>\n",
       "      <td>24.0</td>\n",
       "    </tr>\n",
       "    <tr>\n",
       "      <th>6</th>\n",
       "      <td>1700</td>\n",
       "      <td>350</td>\n",
       "      <td>31.0</td>\n",
       "      <td>27.0</td>\n",
       "    </tr>\n",
       "    <tr>\n",
       "      <th>7</th>\n",
       "      <td>1700</td>\n",
       "      <td>400</td>\n",
       "      <td>35.0</td>\n",
       "      <td>30.0</td>\n",
       "    </tr>\n",
       "    <tr>\n",
       "      <th>8</th>\n",
       "      <td>1700</td>\n",
       "      <td>450</td>\n",
       "      <td>38.0</td>\n",
       "      <td>33.0</td>\n",
       "    </tr>\n",
       "    <tr>\n",
       "      <th>9</th>\n",
       "      <td>1700</td>\n",
       "      <td>500</td>\n",
       "      <td>41.0</td>\n",
       "      <td>35.0</td>\n",
       "    </tr>\n",
       "  </tbody>\n",
       "</table>\n",
       "</div>"
      ],
      "text/plain": [
       "    ghz  udp  utilization     t\n",
       "0  1700   50         11.0  10.0\n",
       "1  1700  100         15.0  13.0\n",
       "2  1700  150         18.0  16.0\n",
       "3  1700  200         21.0  18.0\n",
       "4  1700  250         25.0  21.0\n",
       "5  1700  300         28.0  24.0\n",
       "6  1700  350         31.0  27.0\n",
       "7  1700  400         35.0  30.0\n",
       "8  1700  450         38.0  33.0\n",
       "9  1700  500         41.0  35.0"
      ]
     },
     "execution_count": 52,
     "metadata": {},
     "output_type": "execute_result"
    }
   ],
   "source": [
    "predict = pd.DataFrame(np.round(regressor.predict(init_data)), columns=df.columns[2:])\n",
    "predict = pd.concat([init_data, predict], axis=1)\n",
    "predict"
   ]
  },
  {
   "cell_type": "markdown",
   "id": "9fefe0d2",
   "metadata": {},
   "source": [
    "Как видно ниже, с ростом загрузки ЦП и, как следствие, температуры, растет и значение UDP. \n",
    "Рост равномерный."
   ]
  },
  {
   "cell_type": "code",
   "execution_count": 53,
   "id": "9da53948",
   "metadata": {
    "scrolled": true
   },
   "outputs": [
    {
     "data": {
      "text/plain": [
       "<AxesSubplot:xlabel='udp'>"
      ]
     },
     "execution_count": 53,
     "metadata": {},
     "output_type": "execute_result"
    },
    {
     "data": {
      "image/png": "[encoded data removed]",
      "text/plain": [
       "<Figure size 432x288 with 1 Axes>"
      ]
     },
     "metadata": {
      "needs_background": "light"
     },
     "output_type": "display_data"
    }
   ],
   "source": [
    "predict[['t', 'utilization','udp']].plot(x='udp')"
   ]
  },
  {
   "cell_type": "markdown",
   "id": "545d02c9",
   "metadata": {},
   "source": [
    "## Второе задание"
   ]
  },
  {
   "cell_type": "markdown",
   "id": "b000b19b",
   "metadata": {},
   "source": [
    "На основании данных выше, можно найти закономерноности между ростом тактовой частоты(GHZ), значениями утилизации ЦП и его температуры, соответственно при неизменном значении udp, который по требованиям у нас должен быть минимум 900, можно найти GHZ соответствующее минимальным требованиям к утройству."
   ]
  },
  {
   "cell_type": "code",
   "execution_count": 18,
   "id": "8069185b",
   "metadata": {},
   "outputs": [
    {
     "data": {
      "text/html": [
       "<div>\n",
       "<style scoped>\n",
       "    .dataframe tbody tr th:only-of-type {\n",
       "        vertical-align: middle;\n",
       "    }\n",
       "\n",
       "    .dataframe tbody tr th {\n",
       "        vertical-align: top;\n",
       "    }\n",
       "\n",
       "    .dataframe thead th {\n",
       "        text-align: right;\n",
       "    }\n",
       "</style>\n",
       "<table border=\"1\" class=\"dataframe\">\n",
       "  <thead>\n",
       "    <tr style=\"text-align: right;\">\n",
       "      <th></th>\n",
       "      <th>ghz</th>\n",
       "      <th>udp</th>\n",
       "    </tr>\n",
       "  </thead>\n",
       "  <tbody>\n",
       "    <tr>\n",
       "      <th>0</th>\n",
       "      <td>1500</td>\n",
       "      <td>900</td>\n",
       "    </tr>\n",
       "    <tr>\n",
       "      <th>1</th>\n",
       "      <td>1600</td>\n",
       "      <td>900</td>\n",
       "    </tr>\n",
       "    <tr>\n",
       "      <th>2</th>\n",
       "      <td>1700</td>\n",
       "      <td>900</td>\n",
       "    </tr>\n",
       "    <tr>\n",
       "      <th>3</th>\n",
       "      <td>1800</td>\n",
       "      <td>900</td>\n",
       "    </tr>\n",
       "    <tr>\n",
       "      <th>4</th>\n",
       "      <td>1900</td>\n",
       "      <td>900</td>\n",
       "    </tr>\n",
       "    <tr>\n",
       "      <th>5</th>\n",
       "      <td>2000</td>\n",
       "      <td>900</td>\n",
       "    </tr>\n",
       "    <tr>\n",
       "      <th>6</th>\n",
       "      <td>2100</td>\n",
       "      <td>900</td>\n",
       "    </tr>\n",
       "    <tr>\n",
       "      <th>7</th>\n",
       "      <td>2200</td>\n",
       "      <td>900</td>\n",
       "    </tr>\n",
       "    <tr>\n",
       "      <th>8</th>\n",
       "      <td>2300</td>\n",
       "      <td>900</td>\n",
       "    </tr>\n",
       "    <tr>\n",
       "      <th>9</th>\n",
       "      <td>2400</td>\n",
       "      <td>900</td>\n",
       "    </tr>\n",
       "    <tr>\n",
       "      <th>10</th>\n",
       "      <td>2500</td>\n",
       "      <td>900</td>\n",
       "    </tr>\n",
       "    <tr>\n",
       "      <th>11</th>\n",
       "      <td>2600</td>\n",
       "      <td>900</td>\n",
       "    </tr>\n",
       "  </tbody>\n",
       "</table>\n",
       "</div>"
      ],
      "text/plain": [
       "     ghz  udp\n",
       "0   1500  900\n",
       "1   1600  900\n",
       "2   1700  900\n",
       "3   1800  900\n",
       "4   1900  900\n",
       "5   2000  900\n",
       "6   2100  900\n",
       "7   2200  900\n",
       "8   2300  900\n",
       "9   2400  900\n",
       "10  2500  900\n",
       "11  2600  900"
      ]
     },
     "execution_count": 18,
     "metadata": {},
     "output_type": "execute_result"
    }
   ],
   "source": [
    "init_2 = pd.DataFrame({'ghz':[i for i in range(1500,2700,100)], 'udp':[900 for i in range(1500,2700,100)]})\n",
    "init_2"
   ]
  },
  {
   "cell_type": "code",
   "execution_count": 41,
   "id": "15a99a19",
   "metadata": {},
   "outputs": [
    {
     "data": {
      "text/plain": [
       "LinearRegression()"
      ]
     },
     "execution_count": 41,
     "metadata": {},
     "output_type": "execute_result"
    }
   ],
   "source": [
    "train = df[df.udp==900].drop(['utilization','t'], axis=1)\n",
    "test = df[df.udp==900].drop(['ghz','udp'], axis=1)\n",
    "regressor.fit(train, test)"
   ]
  },
  {
   "cell_type": "code",
   "execution_count": 42,
   "id": "39ab7841",
   "metadata": {},
   "outputs": [
    {
     "data": {
      "text/html": [
       "<div>\n",
       "<style scoped>\n",
       "    .dataframe tbody tr th:only-of-type {\n",
       "        vertical-align: middle;\n",
       "    }\n",
       "\n",
       "    .dataframe tbody tr th {\n",
       "        vertical-align: top;\n",
       "    }\n",
       "\n",
       "    .dataframe thead th {\n",
       "        text-align: right;\n",
       "    }\n",
       "</style>\n",
       "<table border=\"1\" class=\"dataframe\">\n",
       "  <thead>\n",
       "    <tr style=\"text-align: right;\">\n",
       "      <th></th>\n",
       "      <th>ghz</th>\n",
       "      <th>udp</th>\n",
       "      <th>utilization</th>\n",
       "      <th>t</th>\n",
       "    </tr>\n",
       "  </thead>\n",
       "  <tbody>\n",
       "    <tr>\n",
       "      <th>0</th>\n",
       "      <td>1800</td>\n",
       "      <td>900</td>\n",
       "      <td>65.0</td>\n",
       "      <td>58.0</td>\n",
       "    </tr>\n",
       "    <tr>\n",
       "      <th>1</th>\n",
       "      <td>1900</td>\n",
       "      <td>900</td>\n",
       "      <td>63.0</td>\n",
       "      <td>55.0</td>\n",
       "    </tr>\n",
       "    <tr>\n",
       "      <th>2</th>\n",
       "      <td>2000</td>\n",
       "      <td>900</td>\n",
       "      <td>61.0</td>\n",
       "      <td>52.0</td>\n",
       "    </tr>\n",
       "    <tr>\n",
       "      <th>3</th>\n",
       "      <td>2100</td>\n",
       "      <td>900</td>\n",
       "      <td>60.0</td>\n",
       "      <td>49.0</td>\n",
       "    </tr>\n",
       "    <tr>\n",
       "      <th>4</th>\n",
       "      <td>2200</td>\n",
       "      <td>900</td>\n",
       "      <td>58.0</td>\n",
       "      <td>46.0</td>\n",
       "    </tr>\n",
       "    <tr>\n",
       "      <th>5</th>\n",
       "      <td>2300</td>\n",
       "      <td>900</td>\n",
       "      <td>56.0</td>\n",
       "      <td>43.0</td>\n",
       "    </tr>\n",
       "    <tr>\n",
       "      <th>6</th>\n",
       "      <td>2400</td>\n",
       "      <td>900</td>\n",
       "      <td>54.0</td>\n",
       "      <td>40.0</td>\n",
       "    </tr>\n",
       "    <tr>\n",
       "      <th>7</th>\n",
       "      <td>2500</td>\n",
       "      <td>900</td>\n",
       "      <td>52.0</td>\n",
       "      <td>37.0</td>\n",
       "    </tr>\n",
       "    <tr>\n",
       "      <th>8</th>\n",
       "      <td>2600</td>\n",
       "      <td>900</td>\n",
       "      <td>50.0</td>\n",
       "      <td>33.0</td>\n",
       "    </tr>\n",
       "  </tbody>\n",
       "</table>\n",
       "</div>"
      ],
      "text/plain": [
       "    ghz  udp  utilization     t\n",
       "0  1800  900         65.0  58.0\n",
       "1  1900  900         63.0  55.0\n",
       "2  2000  900         61.0  52.0\n",
       "3  2100  900         60.0  49.0\n",
       "4  2200  900         58.0  46.0\n",
       "5  2300  900         56.0  43.0\n",
       "6  2400  900         54.0  40.0\n",
       "7  2500  900         52.0  37.0\n",
       "8  2600  900         50.0  33.0"
      ]
     },
     "execution_count": 42,
     "metadata": {},
     "output_type": "execute_result"
    }
   ],
   "source": [
    "predict_2 = pd.DataFrame(np.ceil(regressor.predict(init_2)), columns=df.columns[2:])#\n",
    "df_2 = pd.concat([init_2, predict_2], axis=1)\n",
    "df_2 = df_2[df_2.utilization<=80]\n",
    "df_2 = df_2[df_2.t<=60]\n",
    "df_2.reset_index(drop=True)"
   ]
  },
  {
   "cell_type": "markdown",
   "id": "433e2811",
   "metadata": {},
   "source": [
    "Таким образом, мы видим, что устройство достигает UDP Throughput не менее 900 Мбит/с, при этом не перегреваясь и не перерабатывая, при значениях GHZ не менее 1800 ГГц"
   ]
  },
  {
   "cell_type": "markdown",
   "id": "85eb9177",
   "metadata": {},
   "source": [
    "Проведение тестирования.\n",
    "\n",
    "Поскольку в изначальных данных видно, что с каждым измерением устройство меняло свои значения. Соотвественно для правильного тестирования нужно проводить как минимум 5 измерений. Исходя из нашего исследования, устройства со значением тактовой частоты ЦП менее 1800 ГГц можно отбрасывать сразу же. \n",
    "Остальные следует:\n",
    "    Нагрузить устройство, например, передачей файлов, достаточно больших для проведения нескольких измерений;\n",
    "    Измерять соответственно тактовую частоту устройства, процент утилизации ЦП и его температуру;\n",
    "    При недостижении устройством значений UDP Throughput в 900 Мбит/с признать устройство не прошедшим тестирование;\n",
    "    При превышении значений утилизации ЦП в 80% или его температуры в 60°С также следует признать устройство не прошедшим тестирование.\n",
    "\n",
    "Тестирование следует проводить в реальных условиях или условиях немного превышающих условия при эксплуатации. Например, устройство скорее всего не будет находиться во влажном, холодном или черезчур горячем климате. При тестировании устройств, например в холодном климате, данные по температуре будут нежелательно искажены в меньшую сторону. Тестирование же, напротив, в слегка жарком помещении позволит выявить те устройства, которые при случайном, но все-таки возможном перегреве (например за счет других устройств вблизи) будут давать нежелательные сбои в работе. Если же непредвиденных ситуаций в местах эксплуатации точно не будет, тестировать следует в обычных условиях.\n",
    "\n"
   ]
  },
  {
   "cell_type": "markdown",
   "id": "94905645",
   "metadata": {},
   "source": [
    " "
   ]
  },
  {
   "cell_type": "markdown",
   "id": "368fae15",
   "metadata": {},
   "source": [
    "На основе представленных данных дайте собственные определения понятиям \"метод измерения производительности\" и \"методика нагрузочного тестирования\"\n",
    "\n",
    "Метод измерения производительности - система определенных способов и приемов, позволяющих определить способность устройств к определенной нагрузке при определенных условиях\n",
    "\n",
    "Методика нагрузочного тестирования - система определенных способов и приемов, позволяющих определить какие из устройств способны к определенной нагрузке при определенных условиях"
   ]
  }
 ],
 "metadata": {
  "kernelspec": {
   "display_name": "Python 3",
   "language": "python",
   "name": "python3"
  },
  "language_info": {
   "codemirror_mode": {
    "name": "ipython",
    "version": 3
   },
   "file_extension": ".py",
   "mimetype": "text/x-python",
   "name": "python",
   "nbconvert_exporter": "python",
   "pygments_lexer": "ipython3",
   "version": "3.8.8"
  }
 },
 "nbformat": 4,
 "nbformat_minor": 5
}
